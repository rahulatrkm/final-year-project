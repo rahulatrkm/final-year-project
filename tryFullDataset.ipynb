{
  "nbformat": 4,
  "nbformat_minor": 0,
  "metadata": {
    "colab": {
      "name": "tryFullDataset.ipynb",
      "provenance": []
    },
    "kernelspec": {
      "name": "python3",
      "display_name": "Python 3"
    }
  },
  "cells": [
    {
      "cell_type": "code",
      "metadata": {
        "id": "RpGlaXVfyE_i",
        "colab_type": "code",
        "colab": {
          "base_uri": "https://localhost:8080/",
          "height": 185
        },
        "outputId": "429c86b9-e20e-43b8-8de0-91eea857c96c"
      },
      "source": [
        "# Downloading the dataset\n",
        "!wget -O gazecapture.tar \"https://gazecapture.csail.mit.edu/dataset.php?email=rahulatrkm@students.vnit.ac.in&hash=38db3aed920cf82ab059bfccbd02be6a\""
      ],
      "execution_count": 0,
      "outputs": [
        {
          "output_type": "stream",
          "text": [
            "--2019-10-29 09:12:26--  https://gazecapture.csail.mit.edu/dataset.php?email=rahulatrkm@students.vnit.ac.in&hash=38db3aed920cf82ab059bfccbd02be6a\n",
            "Resolving gazecapture.csail.mit.edu (gazecapture.csail.mit.edu)... 128.52.128.46\n",
            "Connecting to gazecapture.csail.mit.edu (gazecapture.csail.mit.edu)|128.52.128.46|:443... connected.\n",
            "HTTP request sent, awaiting response... 200 OK\n",
            "Length: 146474260480 (136G) [application/x-tar]\n",
            "Saving to: ‘gazecapture.tar’\n",
            "\n",
            "gazecapture.tar       4%[                    ]   6.50G  9.11MB/s    eta 4h 18m "
          ],
          "name": "stdout"
        }
      ]
    },
    {
      "cell_type": "code",
      "metadata": {
        "id": "LG89vKQTyo5N",
        "colab_type": "code",
        "colab": {}
      },
      "source": [
        "!tar -xf gazecapture.tar"
      ],
      "execution_count": 0,
      "outputs": []
    },
    {
      "cell_type": "code",
      "metadata": {
        "id": "Jyyx-tt81Eh_",
        "colab_type": "code",
        "colab": {}
      },
      "source": [
        "!mkdir prepared\n",
        "## try untar one file then untar all.\n",
        "!tar -xf "
      ],
      "execution_count": 0,
      "outputs": []
    },
    {
      "cell_type": "code",
      "metadata": {
        "id": "QIFbhbBo0Uix",
        "colab_type": "code",
        "colab": {}
      },
      "source": [
        "## Prepare the dataset\n",
        "# python prepareDataset.py --dataset_path [A = where extracted] --output_path [B = where to save new data]\n",
        "!python prepareDataset.py --dataset_path 'gazecapture' --output_path 'prepared'\n",
        "\n",
        "## Upload the main.py file\n",
        "## Also the other itracker files\n",
        "!python main.py --data_path 'prepared' --reset"
      ],
      "execution_count": 0,
      "outputs": []
    }
  ]
}